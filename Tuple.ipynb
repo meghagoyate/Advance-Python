{
 "cells": [
  {
   "cell_type": "markdown",
   "id": "fc940ede",
   "metadata": {},
   "source": [
    "# Tuple"
   ]
  },
  {
   "cell_type": "markdown",
   "id": "c4d11e27",
   "metadata": {},
   "source": [
    "# Create a tuple"
   ]
  },
  {
   "cell_type": "code",
   "execution_count": 1,
   "id": "64d1a157",
   "metadata": {},
   "outputs": [
    {
     "name": "stdout",
     "output_type": "stream",
     "text": [
      "('Max', 28, 'New York')\n",
      "('Linda', 25, 'Miami')\n",
      "(23,)\n"
     ]
    }
   ],
   "source": [
    "tuple_1 = (\"Max\", 28, \"New York\")\n",
    "tuple_2 = \"Linda\", 25, \"Miami\"\n",
    "tuple_3 = (23,)\n",
    "print(tuple_1)\n",
    "print(tuple_2)\n",
    "print(tuple_3)"
   ]
  },
  {
   "cell_type": "code",
   "execution_count": 2,
   "id": "9414b92f",
   "metadata": {},
   "outputs": [
    {
     "data": {
      "text/plain": [
       "(2, 5, 3)"
      ]
     },
     "execution_count": 2,
     "metadata": {},
     "output_type": "execute_result"
    }
   ],
   "source": [
    "tuple_4 = tuple([2,5,3])\n",
    "tuple_4\n"
   ]
  },
  {
   "cell_type": "code",
   "execution_count": 3,
   "id": "45019702",
   "metadata": {},
   "outputs": [
    {
     "name": "stdout",
     "output_type": "stream",
     "text": [
      "Max\n"
     ]
    }
   ],
   "source": [
    "item=tuple_1[0]\n",
    "print(item)"
   ]
  },
  {
   "cell_type": "code",
   "execution_count": 4,
   "id": "4c245376",
   "metadata": {},
   "outputs": [
    {
     "name": "stdout",
     "output_type": "stream",
     "text": [
      "Miami\n"
     ]
    }
   ],
   "source": [
    "item=tuple_2[-1]\n",
    "print(item)"
   ]
  },
  {
   "cell_type": "markdown",
   "id": "f7d243ea",
   "metadata": {},
   "source": [
    "Delete a tuple"
   ]
  },
  {
   "cell_type": "code",
   "execution_count": 5,
   "id": "b1b2829e",
   "metadata": {},
   "outputs": [],
   "source": [
    "del tuple_2"
   ]
  },
  {
   "cell_type": "code",
   "execution_count": 6,
   "id": "97968400",
   "metadata": {},
   "outputs": [
    {
     "name": "stdout",
     "output_type": "stream",
     "text": [
      "Max\n",
      "28\n",
      "New York\n"
     ]
    }
   ],
   "source": [
    "for i in tuple_1:\n",
    "    print(i)"
   ]
  },
  {
   "cell_type": "markdown",
   "id": "29e3392a",
   "metadata": {},
   "source": [
    "Check if an item exists\n",
    "\n"
   ]
  },
  {
   "cell_type": "code",
   "execution_count": 7,
   "id": "852834b0",
   "metadata": {},
   "outputs": [
    {
     "name": "stdout",
     "output_type": "stream",
     "text": [
      "yes\n"
     ]
    }
   ],
   "source": [
    "if \"New York\" in tuple_1:\n",
    "    print(\"yes\")\n",
    "else:\n",
    "    print(\"No\")"
   ]
  },
  {
   "cell_type": "markdown",
   "id": "d05d0410",
   "metadata": {},
   "source": [
    "# Usefule methods"
   ]
  },
  {
   "cell_type": "code",
   "execution_count": 8,
   "id": "27f7e652",
   "metadata": {},
   "outputs": [],
   "source": [
    "my_tuple = ('a','p','p','l','e',)"
   ]
  },
  {
   "cell_type": "code",
   "execution_count": 9,
   "id": "0051d2db",
   "metadata": {},
   "outputs": [
    {
     "data": {
      "text/plain": [
       "5"
      ]
     },
     "execution_count": 9,
     "metadata": {},
     "output_type": "execute_result"
    }
   ],
   "source": [
    "#length\n",
    "len(my_tuple)"
   ]
  },
  {
   "cell_type": "code",
   "execution_count": 10,
   "id": "2aa65269",
   "metadata": {},
   "outputs": [
    {
     "data": {
      "text/plain": [
       "2"
      ]
     },
     "execution_count": 10,
     "metadata": {},
     "output_type": "execute_result"
    }
   ],
   "source": [
    "#count\n",
    "my_tuple.count(\"p\")"
   ]
  },
  {
   "cell_type": "code",
   "execution_count": 11,
   "id": "0a576b10",
   "metadata": {},
   "outputs": [
    {
     "name": "stdout",
     "output_type": "stream",
     "text": [
      "0\n"
     ]
    }
   ],
   "source": [
    "#index\n",
    "print(my_tuple.index(\"a\"))"
   ]
  },
  {
   "cell_type": "code",
   "execution_count": 12,
   "id": "250673ba",
   "metadata": {},
   "outputs": [
    {
     "data": {
      "text/plain": [
       "('33333', '6666')"
      ]
     },
     "execution_count": 12,
     "metadata": {},
     "output_type": "execute_result"
    }
   ],
   "source": [
    "my_tuples = ('3'*5,'6' * 4)\n",
    "my_tuples"
   ]
  },
  {
   "cell_type": "code",
   "execution_count": 14,
   "id": "b3c024b9",
   "metadata": {},
   "outputs": [
    {
     "data": {
      "text/plain": [
       "(5, 3, 6, 8, 9, 6)"
      ]
     },
     "execution_count": 14,
     "metadata": {},
     "output_type": "execute_result"
    }
   ],
   "source": [
    "#list to tuple conversion\n",
    "my_list=[5,3,6,8,9,6]\n",
    "list_to_tuple=tuple(my_list)\n",
    "list_to_tuple\n"
   ]
  },
  {
   "cell_type": "code",
   "execution_count": 15,
   "id": "c334255c",
   "metadata": {},
   "outputs": [
    {
     "data": {
      "text/plain": [
       "('h', 'e', 'l', 'l', 'o', ' ', 'w', 'o', 'r', 'l', 'd')"
      ]
     },
     "execution_count": 15,
     "metadata": {},
     "output_type": "execute_result"
    }
   ],
   "source": [
    "string_to_tuple=tuple(\"hello world\")\n",
    "string_to_tuple"
   ]
  },
  {
   "cell_type": "code",
   "execution_count": 16,
   "id": "35ba84ff",
   "metadata": {},
   "outputs": [],
   "source": [
    "tuple_1 = (\"Max\", 28, \"New York\")\n",
    "name, age, city = tuple_1"
   ]
  },
  {
   "cell_type": "code",
   "execution_count": 18,
   "id": "160e966e",
   "metadata": {},
   "outputs": [
    {
     "name": "stdout",
     "output_type": "stream",
     "text": [
      "Max\n",
      "28\n",
      "New York\n"
     ]
    }
   ],
   "source": [
    "print(name)\n",
    "print(age)\n",
    "print(city)"
   ]
  },
  {
   "cell_type": "code",
   "execution_count": 20,
   "id": "7fa88180",
   "metadata": {},
   "outputs": [
    {
     "name": "stdout",
     "output_type": "stream",
     "text": [
      "a\n",
      "['p', 'p', 'l']\n",
      "e\n"
     ]
    }
   ],
   "source": [
    "item_first,*item_between,item_last=my_tuple\n",
    "print(item_first)\n",
    "print(item_between)\n",
    "print(item_last)"
   ]
  },
  {
   "cell_type": "markdown",
   "id": "6b43d2b9",
   "metadata": {},
   "source": [
    "slicing"
   ]
  },
  {
   "cell_type": "code",
   "execution_count": 21,
   "id": "dbcca93f",
   "metadata": {},
   "outputs": [
    {
     "name": "stdout",
     "output_type": "stream",
     "text": [
      "(2, 3)\n",
      "(3, 4, 5, 6, 7, 8, 9, 10)\n",
      "(1, 2, 3)\n",
      "(1, 3, 5, 7, 9)\n",
      "(10, 9, 8, 7, 6, 5, 4, 3, 2, 1)\n"
     ]
    }
   ],
   "source": [
    "\n",
    "a = (1, 2, 3, 4, 5, 6, 7, 8, 9, 10)\n",
    "b = a[1:3] \n",
    "print(b)\n",
    "b = a[2:] # until the end\n",
    "print(b)\n",
    "b = a[:3] # from beginning\n",
    "print(b)\n",
    "b = a[::2] # start to end with every second item\n",
    "print(b)\n",
    "b = a[::-1]\n",
    "print(b)"
   ]
  },
  {
   "cell_type": "code",
   "execution_count": null,
   "id": "50262a2d",
   "metadata": {},
   "outputs": [],
   "source": []
  }
 ],
 "metadata": {
  "kernelspec": {
   "display_name": "Python 3",
   "language": "python",
   "name": "python3"
  },
  "language_info": {
   "codemirror_mode": {
    "name": "ipython",
    "version": 3
   },
   "file_extension": ".py",
   "mimetype": "text/x-python",
   "name": "python",
   "nbconvert_exporter": "python",
   "pygments_lexer": "ipython3",
   "version": "3.8.8"
  }
 },
 "nbformat": 4,
 "nbformat_minor": 5
}
