{
 "cells": [
  {
   "cell_type": "markdown",
   "id": "c4500724",
   "metadata": {},
   "source": [
    "# Dictionaries"
   ]
  },
  {
   "cell_type": "markdown",
   "id": "561f934c",
   "metadata": {},
   "source": [
    "Create a Dictionaries"
   ]
  },
  {
   "cell_type": "code",
   "execution_count": 1,
   "id": "95c61387",
   "metadata": {},
   "outputs": [
    {
     "data": {
      "text/plain": [
       "{'name': 'megha', 'age': 23, 'city': 'amravati'}"
      ]
     },
     "execution_count": 1,
     "metadata": {},
     "output_type": "execute_result"
    }
   ],
   "source": [
    "my_dict = {\"name\":\"megha\",\"age\":23,\"city\":\"amravati\"}\n",
    "my_dict"
   ]
  },
  {
   "cell_type": "code",
   "execution_count": 2,
   "id": "5821585a",
   "metadata": {},
   "outputs": [
    {
     "name": "stdout",
     "output_type": "stream",
     "text": [
      "{'name': 'lisa', 'age': 27, 'city': 'boston'}\n"
     ]
    }
   ],
   "source": [
    "my_dict2=dict(name=\"lisa\",age=27,city=\"boston\")\n",
    "print(my_dict2)"
   ]
  },
  {
   "cell_type": "markdown",
   "id": "8e2ac06b",
   "metadata": {},
   "source": [
    "Access items"
   ]
  },
  {
   "cell_type": "code",
   "execution_count": 3,
   "id": "c1eef851",
   "metadata": {},
   "outputs": [
    {
     "data": {
      "text/plain": [
       "'megha'"
      ]
     },
     "execution_count": 3,
     "metadata": {},
     "output_type": "execute_result"
    }
   ],
   "source": [
    "name_in_dict = my_dict[\"name\"]\n",
    "name_in_dict"
   ]
  },
  {
   "cell_type": "code",
   "execution_count": 4,
   "id": "c9261b4f",
   "metadata": {},
   "outputs": [
    {
     "name": "stdout",
     "output_type": "stream",
     "text": [
      "{'name': 'megha', 'age': 23, 'city': 'amravati', 'email': 'megha.goyate@gmail.com'}\n"
     ]
    }
   ],
   "source": [
    "my_dict[\"email\"]= \"megha.goyate@gmail.com\"\n",
    "print(my_dict)"
   ]
  },
  {
   "cell_type": "markdown",
   "id": "1986cce3",
   "metadata": {},
   "source": [
    "Delete items"
   ]
  },
  {
   "cell_type": "code",
   "execution_count": 5,
   "id": "34085516",
   "metadata": {},
   "outputs": [],
   "source": [
    "del my_dict[\"email\"]\n"
   ]
  },
  {
   "cell_type": "code",
   "execution_count": 6,
   "id": "44c12032",
   "metadata": {},
   "outputs": [
    {
     "data": {
      "text/plain": [
       "{'name': 'megha', 'age': 23, 'city': 'amravati'}"
      ]
     },
     "execution_count": 6,
     "metadata": {},
     "output_type": "execute_result"
    }
   ],
   "source": [
    "my_dict"
   ]
  },
  {
   "cell_type": "code",
   "execution_count": 7,
   "id": "4130feaf",
   "metadata": {},
   "outputs": [
    {
     "name": "stdout",
     "output_type": "stream",
     "text": [
      "popped value: ('city', 'amravati')\n"
     ]
    }
   ],
   "source": [
    "print(\"popped value:\",my_dict.popitem())"
   ]
  },
  {
   "cell_type": "code",
   "execution_count": 8,
   "id": "836a2b52",
   "metadata": {},
   "outputs": [
    {
     "data": {
      "text/plain": [
       "{'name': 'megha', 'age': 23}"
      ]
     },
     "execution_count": 8,
     "metadata": {},
     "output_type": "execute_result"
    }
   ],
   "source": [
    "my_dict"
   ]
  },
  {
   "cell_type": "markdown",
   "id": "500f0650",
   "metadata": {},
   "source": [
    "Check for keys"
   ]
  },
  {
   "cell_type": "code",
   "execution_count": 9,
   "id": "7fd65b74",
   "metadata": {},
   "outputs": [],
   "source": [
    "my_dict = {\"name\":\"Max\", \"age\":28, \"city\":\"New York\"}"
   ]
  },
  {
   "cell_type": "code",
   "execution_count": 10,
   "id": "75cf70f3",
   "metadata": {},
   "outputs": [
    {
     "name": "stdout",
     "output_type": "stream",
     "text": [
      "Max\n"
     ]
    }
   ],
   "source": [
    "#use if in\n",
    "if \"name\" in my_dict:\n",
    "    print(my_dict[\"name\"])"
   ]
  },
  {
   "cell_type": "code",
   "execution_count": 12,
   "id": "7210c623",
   "metadata": {},
   "outputs": [
    {
     "name": "stdout",
     "output_type": "stream",
     "text": [
      "No key found\n"
     ]
    }
   ],
   "source": [
    "try:\n",
    "    print(my_dict[\"firstname\"])\n",
    "except KeyError:\n",
    "    print(\"No key found\") "
   ]
  },
  {
   "cell_type": "markdown",
   "id": "506201a9",
   "metadata": {},
   "source": [
    "Looping:"
   ]
  },
  {
   "cell_type": "code",
   "execution_count": 14,
   "id": "10cd6281",
   "metadata": {},
   "outputs": [
    {
     "name": "stdout",
     "output_type": "stream",
     "text": [
      "name Max\n",
      "age 28\n",
      "city New York\n"
     ]
    }
   ],
   "source": [
    "for key in my_dict:\n",
    "    print(key,my_dict[key])"
   ]
  },
  {
   "cell_type": "code",
   "execution_count": 18,
   "id": "5ddfd078",
   "metadata": {},
   "outputs": [
    {
     "name": "stdout",
     "output_type": "stream",
     "text": [
      "name\n",
      "age\n",
      "city\n"
     ]
    }
   ],
   "source": [
    "for key in my_dict.keys():\n",
    "    print(key)"
   ]
  },
  {
   "cell_type": "code",
   "execution_count": 21,
   "id": "5d2fe873",
   "metadata": {},
   "outputs": [
    {
     "name": "stdout",
     "output_type": "stream",
     "text": [
      "Max\n",
      "28\n",
      "New York\n"
     ]
    }
   ],
   "source": [
    "for value in my_dict.values():\n",
    "    print(value)"
   ]
  },
  {
   "cell_type": "code",
   "execution_count": 22,
   "id": "2aea1df3",
   "metadata": {},
   "outputs": [
    {
     "name": "stdout",
     "output_type": "stream",
     "text": [
      "city Max\n",
      "city 28\n",
      "city New York\n"
     ]
    }
   ],
   "source": [
    "for keys,value in my_dict.items():\n",
    "    print(key,value)"
   ]
  },
  {
   "cell_type": "markdown",
   "id": "b469d4f5",
   "metadata": {},
   "source": [
    "copy a dictionary:"
   ]
  },
  {
   "cell_type": "code",
   "execution_count": 23,
   "id": "43983155",
   "metadata": {},
   "outputs": [],
   "source": [
    "dict_org = {\"name\":\"Max\", \"age\":28, \"city\":\"New York\"}\n"
   ]
  },
  {
   "cell_type": "code",
   "execution_count": 24,
   "id": "a6f51b96",
   "metadata": {},
   "outputs": [],
   "source": [
    "dict_copy=dict_org"
   ]
  },
  {
   "cell_type": "code",
   "execution_count": 25,
   "id": "f12d5192",
   "metadata": {},
   "outputs": [
    {
     "name": "stdout",
     "output_type": "stream",
     "text": [
      "{'name': 'lisa', 'age': 28, 'city': 'New York'}\n",
      "{'name': 'lisa', 'age': 28, 'city': 'New York'}\n"
     ]
    }
   ],
   "source": [
    "dict_copy[\"name\"]=\"lisa\"\n",
    "print(dict_copy)\n",
    "print(dict_org)"
   ]
  },
  {
   "cell_type": "code",
   "execution_count": null,
   "id": "62f0ab78",
   "metadata": {},
   "outputs": [],
   "source": []
  },
  {
   "cell_type": "code",
   "execution_count": 26,
   "id": "5ca2dcc4",
   "metadata": {},
   "outputs": [],
   "source": [
    "dict_org = {\"name\":\"Max\", \"age\":28, \"city\":\"New York\"}\n"
   ]
  },
  {
   "cell_type": "code",
   "execution_count": 27,
   "id": "5eb7b92f",
   "metadata": {},
   "outputs": [],
   "source": [
    "dict_copy = dict_org.copy()"
   ]
  },
  {
   "cell_type": "code",
   "execution_count": 29,
   "id": "db4d775b",
   "metadata": {},
   "outputs": [
    {
     "name": "stdout",
     "output_type": "stream",
     "text": [
      "{'name': 'lisa', 'age': 28, 'city': 'New York'}\n"
     ]
    }
   ],
   "source": [
    "dict_copy[\"name\"]=\"lisa\"\n",
    "print(dict_copy)"
   ]
  },
  {
   "cell_type": "code",
   "execution_count": 30,
   "id": "a0090052",
   "metadata": {},
   "outputs": [
    {
     "data": {
      "text/plain": [
       "{'name': 'Max', 'age': 28, 'city': 'New York'}"
      ]
     },
     "execution_count": 30,
     "metadata": {},
     "output_type": "execute_result"
    }
   ],
   "source": [
    "dict_org"
   ]
  },
  {
   "cell_type": "markdown",
   "id": "22246d9a",
   "metadata": {},
   "source": [
    "Merge two dictionaries"
   ]
  },
  {
   "cell_type": "code",
   "execution_count": 31,
   "id": "b2d4e145",
   "metadata": {},
   "outputs": [
    {
     "name": "stdout",
     "output_type": "stream",
     "text": [
      "{'name': 'Lisa', 'age': 27, 'email': 'max@xyz.com', 'city': 'Boston'}\n"
     ]
    }
   ],
   "source": [
    "my_dict = {\"name\":\"Max\", \"age\":28, \"email\":\"max@xyz.com\"}\n",
    "my_dict_2 = dict(name=\"Lisa\", age=27, city=\"Boston\")\n",
    "\n",
    "my_dict.update(my_dict_2)\n",
    "print(my_dict)"
   ]
  },
  {
   "cell_type": "markdown",
   "id": "698e215c",
   "metadata": {},
   "source": [
    "###Nested Dictionaries"
   ]
  },
  {
   "cell_type": "code",
   "execution_count": 32,
   "id": "869d2aad",
   "metadata": {},
   "outputs": [
    {
     "name": "stdout",
     "output_type": "stream",
     "text": [
      "{'dictA': {'name': 'Max', 'age': 28}, 'dictB': {'name': 'Alex', 'age': 25}}\n"
     ]
    }
   ],
   "source": [
    "my_dict_1 = {\"name\": \"Max\", \"age\": 28}\n",
    "my_dict_2 = {\"name\": \"Alex\", \"age\": 25}\n",
    "nested_dict = {\"dictA\":my_dict_1,\"dictB\":my_dict_2}\n",
    "print(nested_dict)"
   ]
  },
  {
   "cell_type": "code",
   "execution_count": null,
   "id": "ae02390f",
   "metadata": {},
   "outputs": [],
   "source": []
  }
 ],
 "metadata": {
  "kernelspec": {
   "display_name": "Python 3",
   "language": "python",
   "name": "python3"
  },
  "language_info": {
   "codemirror_mode": {
    "name": "ipython",
    "version": 3
   },
   "file_extension": ".py",
   "mimetype": "text/x-python",
   "name": "python",
   "nbconvert_exporter": "python",
   "pygments_lexer": "ipython3",
   "version": "3.8.8"
  }
 },
 "nbformat": 4,
 "nbformat_minor": 5
}
