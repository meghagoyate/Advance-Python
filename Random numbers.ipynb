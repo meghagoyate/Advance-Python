{
 "cells": [
  {
   "cell_type": "markdown",
   "id": "047acb1b",
   "metadata": {},
   "source": [
    "### Random numbers"
   ]
  },
  {
   "cell_type": "code",
   "execution_count": 5,
   "id": "0588a9ec",
   "metadata": {},
   "outputs": [],
   "source": [
    "import random"
   ]
  },
  {
   "cell_type": "code",
   "execution_count": 6,
   "id": "2b8c0a05",
   "metadata": {},
   "outputs": [
    {
     "name": "stdout",
     "output_type": "stream",
     "text": [
      "0.19968341600413386\n",
      "4.963255742183849\n",
      "10\n",
      "4\n"
     ]
    }
   ],
   "source": [
    "# random float in [0,1)\n",
    "a = random.random()\n",
    "print(a)\n",
    "\n",
    "# random float in range [a,b]\n",
    "a = random.uniform(1,10)\n",
    "print(a)\n",
    "\n",
    "# random integer in range [a,b]. b is included\n",
    "a = random.randint(1,10)\n",
    "print(a)\n",
    "\n",
    "# random integer in range [a,b). b is excluded\n",
    "a = random.randrange(1,10)\n",
    "print(a)\n",
    "\n"
   ]
  },
  {
   "cell_type": "code",
   "execution_count": 7,
   "id": "5666c56d",
   "metadata": {},
   "outputs": [
    {
     "name": "stdout",
     "output_type": "stream",
     "text": [
      "0.22717549293982817\n",
      "I\n",
      "['D', 'E', 'G']\n",
      "['B', 'I', 'A']\n",
      "['G', 'C', 'A', 'F', 'D', 'B', 'I', 'E', 'H']\n"
     ]
    }
   ],
   "source": [
    "# random float from a normal distribution with mu and sigma\n",
    "a = random.normalvariate(0, 1)\n",
    "print(a)\n",
    "\n",
    "# choose a random element from a sequence\n",
    "a = random.choice(list(\"ABCDEFGHI\"))\n",
    "print(a)\n",
    "\n",
    "# choose k unique random elements from a sequence\n",
    "a = random.sample(list(\"ABCDEFGHI\"), 3)\n",
    "print(a)\n",
    "\n",
    "# choose k elements with replacement, and return k sized list\n",
    "a = random.choices(list(\"ABCDEFGHI\"),k=3)\n",
    "print(a)\n",
    "\n",
    "# shuffle list in place\n",
    "a = list(\"ABCDEFGHI\")\n",
    "random.shuffle(a)\n",
    "print(a)"
   ]
  },
  {
   "cell_type": "markdown",
   "id": "7aaa0ac3",
   "metadata": {},
   "source": [
    "## The seed generator\n",
    "With random.seed(), you can make results reproducible, and the chain of calls after random.seed() will produce the same trail of data. The sequence of random numbers becomes deterministic, or completely determined by the seed value."
   ]
  },
  {
   "cell_type": "code",
   "execution_count": 8,
   "id": "85b19dd8",
   "metadata": {},
   "outputs": [
    {
     "name": "stdout",
     "output_type": "stream",
     "text": [
      "Seeding with 1...\n",
      "\n",
      "0.13436424411240122\n",
      "8.626903632435095\n",
      "B\n",
      "\n",
      "Re-seeding with 42...\n",
      "\n",
      "0.6394267984578837\n",
      "1.2250967970040025\n",
      "E\n",
      "\n",
      "Re-seeding with 1...\n",
      "\n",
      "0.13436424411240122\n",
      "8.626903632435095\n",
      "B\n",
      "\n",
      "Re-seeding with 42...\n",
      "\n",
      "0.6394267984578837\n",
      "1.2250967970040025\n",
      "E\n"
     ]
    }
   ],
   "source": [
    "print('Seeding with 1...\\n')\n",
    "\n",
    "random.seed(1)\n",
    "print(random.random())\n",
    "print(random.uniform(1,10))\n",
    "print(random.choice(list(\"ABCDEFGHI\")))\n",
    "\n",
    "print('\\nRe-seeding with 42...\\n')\n",
    "random.seed(42)  # Re-seed\n",
    "\n",
    "print(random.random())\n",
    "print(random.uniform(1,10))\n",
    "print(random.choice(list(\"ABCDEFGHI\")))\n",
    "\n",
    "print('\\nRe-seeding with 1...\\n')\n",
    "random.seed(1)  # Re-seed\n",
    "\n",
    "print(random.random())\n",
    "print(random.uniform(1,10))\n",
    "print(random.choice(list(\"ABCDEFGHI\")))\n",
    "\n",
    "print('\\nRe-seeding with 42...\\n')\n",
    "random.seed(42)  # Re-seed\n",
    "\n",
    "print(random.random())\n",
    "print(random.uniform(1,10))\n",
    "print(random.choice(list(\"ABCDEFGHI\")))"
   ]
  },
  {
   "cell_type": "markdown",
   "id": "ee7cb6ba",
   "metadata": {},
   "source": [
    "## Random numbers with NumPy"
   ]
  },
  {
   "cell_type": "code",
   "execution_count": 9,
   "id": "eb211be3",
   "metadata": {},
   "outputs": [],
   "source": [
    "import numpy as np "
   ]
  },
  {
   "cell_type": "code",
   "execution_count": 10,
   "id": "3903f6ff",
   "metadata": {},
   "outputs": [
    {
     "name": "stdout",
     "output_type": "stream",
     "text": [
      "[[0 4 1]\n",
      " [8 5 0]\n",
      " [9 8 9]\n",
      " [0 3 1]\n",
      " [7 4 5]]\n"
     ]
    }
   ],
   "source": [
    "values = np.random.randint(0, 10, (5,3))\n",
    "print(values)"
   ]
  },
  {
   "cell_type": "code",
   "execution_count": 11,
   "id": "03c6d29c",
   "metadata": {},
   "outputs": [
    {
     "name": "stdout",
     "output_type": "stream",
     "text": [
      "[ 1.21379717  0.12690162  0.97107372 -0.08927011 -0.25385078]\n"
     ]
    }
   ],
   "source": [
    "values = np.random.randn(5)\n",
    "print(values)"
   ]
  },
  {
   "cell_type": "code",
   "execution_count": 12,
   "id": "4dc6c8d2",
   "metadata": {},
   "outputs": [
    {
     "name": "stdout",
     "output_type": "stream",
     "text": [
      "[[4 5 6]\n",
      " [1 2 3]\n",
      " [7 8 9]]\n"
     ]
    }
   ],
   "source": [
    "arr = np.array([[1,2,3], [4,5,6], [7,8,9]])\n",
    "np.random.shuffle(arr)\n",
    "print(arr)"
   ]
  },
  {
   "cell_type": "code",
   "execution_count": null,
   "id": "9bec2a93",
   "metadata": {},
   "outputs": [],
   "source": []
  }
 ],
 "metadata": {
  "kernelspec": {
   "display_name": "Python 3",
   "language": "python",
   "name": "python3"
  },
  "language_info": {
   "codemirror_mode": {
    "name": "ipython",
    "version": 3
   },
   "file_extension": ".py",
   "mimetype": "text/x-python",
   "name": "python",
   "nbconvert_exporter": "python",
   "pygments_lexer": "ipython3",
   "version": "3.8.8"
  }
 },
 "nbformat": 4,
 "nbformat_minor": 5
}
