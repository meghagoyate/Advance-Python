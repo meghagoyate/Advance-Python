{
 "cells": [
  {
   "cell_type": "markdown",
   "id": "6627480e",
   "metadata": {},
   "source": [
    "# Sets"
   ]
  },
  {
   "cell_type": "code",
   "execution_count": 1,
   "id": "2bd83b0c",
   "metadata": {},
   "outputs": [
    {
     "name": "stdout",
     "output_type": "stream",
     "text": [
      "{'apple', 'banana', 'cherry'}\n"
     ]
    }
   ],
   "source": [
    "#Create a set\n",
    "my_set = {\"apple\", \"banana\", \"cherry\"}\n",
    "print(my_set)"
   ]
  },
  {
   "cell_type": "code",
   "execution_count": 2,
   "id": "e0f8a36e",
   "metadata": {},
   "outputs": [
    {
     "name": "stdout",
     "output_type": "stream",
     "text": [
      "{'two', 'three', 'one'}\n"
     ]
    }
   ],
   "source": [
    "#using set function\n",
    "my_set_2 = set([\"one\", \"two\", \"three\"])\n",
    "print(my_set_2)"
   ]
  },
  {
   "cell_type": "code",
   "execution_count": 3,
   "id": "ec1a3b45",
   "metadata": {},
   "outputs": [
    {
     "name": "stdout",
     "output_type": "stream",
     "text": [
      "{'c', 'e', 'f', 'b', 'd', 'a'}\n"
     ]
    }
   ],
   "source": [
    "my_set_3 = set(\"aaabbbcccdddeeeeeffff\")\n",
    "print(my_set_3)"
   ]
  },
  {
   "cell_type": "markdown",
   "id": "d6536993",
   "metadata": {},
   "source": [
    "# Add elements into set"
   ]
  },
  {
   "cell_type": "code",
   "execution_count": 4,
   "id": "8244ead6",
   "metadata": {},
   "outputs": [
    {
     "name": "stdout",
     "output_type": "stream",
     "text": [
      "{True, 42, 'hello'}\n"
     ]
    }
   ],
   "source": [
    "my_set=set()\n",
    "#using add( method to add elements)\n",
    "my_set.add(42)\n",
    "my_set.add(\"hello\")\n",
    "my_set.add(True)\n",
    "print(my_set)"
   ]
  },
  {
   "cell_type": "code",
   "execution_count": 5,
   "id": "ebbc76de",
   "metadata": {},
   "outputs": [
    {
     "name": "stdout",
     "output_type": "stream",
     "text": [
      "{True, 42, 'hello'}\n"
     ]
    }
   ],
   "source": [
    "# nothing happens when the element is already present:\n",
    "my_set.add(42)\n",
    "print(my_set)"
   ]
  },
  {
   "cell_type": "markdown",
   "id": "234555be",
   "metadata": {},
   "source": [
    "# Remove elements"
   ]
  },
  {
   "cell_type": "code",
   "execution_count": 6,
   "id": "2833a76a",
   "metadata": {},
   "outputs": [
    {
     "name": "stdout",
     "output_type": "stream",
     "text": [
      "{'banana', 'cherry'}\n"
     ]
    }
   ],
   "source": [
    "# remove(x): removes x, raises a KeyError if element is not present\n",
    "my_set = {\"apple\", \"banana\", \"cherry\"}\n",
    "my_set.remove(\"apple\")\n",
    "print(my_set)"
   ]
  },
  {
   "cell_type": "code",
   "execution_count": 7,
   "id": "72e130ab",
   "metadata": {},
   "outputs": [
    {
     "data": {
      "text/plain": [
       "{'banana'}"
      ]
     },
     "execution_count": 7,
     "metadata": {},
     "output_type": "execute_result"
    }
   ],
   "source": [
    "# discard(x): removes x, does nothing if element is not present\n",
    "my_set.discard(\"cherry\")\n",
    "my_set"
   ]
  },
  {
   "cell_type": "code",
   "execution_count": 8,
   "id": "c173f117",
   "metadata": {},
   "outputs": [
    {
     "name": "stdout",
     "output_type": "stream",
     "text": [
      "set()\n"
     ]
    }
   ],
   "source": [
    "# clear() : remove all elements\n",
    "my_set.clear()\n",
    "print(my_set)"
   ]
  },
  {
   "cell_type": "code",
   "execution_count": 9,
   "id": "495e4bc7",
   "metadata": {},
   "outputs": [
    {
     "name": "stdout",
     "output_type": "stream",
     "text": [
      "False\n",
      "{True, 2, 'hello', 'hi'}\n"
     ]
    }
   ],
   "source": [
    "# pop() : return and remove a random element\n",
    "a = {True, 2, False, \"hi\", \"hello\"}\n",
    "print(a.pop())\n",
    "print(a)"
   ]
  },
  {
   "cell_type": "markdown",
   "id": "8e2b3051",
   "metadata": {},
   "source": [
    "check if element is in set"
   ]
  },
  {
   "cell_type": "code",
   "execution_count": 10,
   "id": "4f6fcf7a",
   "metadata": {},
   "outputs": [
    {
     "name": "stdout",
     "output_type": "stream",
     "text": [
      "apple\n",
      "banana\n",
      "cherry\n"
     ]
    }
   ],
   "source": [
    "my_set={\"apple\",\"banana\",\"cherry\"}\n",
    "for i in my_set:\n",
    "        print(i)"
   ]
  },
  {
   "cell_type": "markdown",
   "id": "5c12160a",
   "metadata": {},
   "source": [
    "union and intersection"
   ]
  },
  {
   "cell_type": "code",
   "execution_count": 11,
   "id": "5a5a7279",
   "metadata": {},
   "outputs": [
    {
     "name": "stdout",
     "output_type": "stream",
     "text": [
      "{0, 1, 2, 3, 4, 5, 6, 7, 8, 9}\n"
     ]
    }
   ],
   "source": [
    "odds = {1, 3, 5, 7, 9}\n",
    "evens = {0, 2, 4, 6, 8}\n",
    "primes = {2, 3, 5, 7}\n",
    "# union() : combine elements from both sets, no duplication\n",
    "# note that this does not change the two sets\n",
    "u = odds.union(evens)\n",
    "print(u)"
   ]
  },
  {
   "cell_type": "code",
   "execution_count": 12,
   "id": "4272d805",
   "metadata": {},
   "outputs": [
    {
     "name": "stdout",
     "output_type": "stream",
     "text": [
      "set()\n"
     ]
    }
   ],
   "source": [
    "# intersection(): take elements that are in both sets\n",
    "i = odds.intersection(evens)\n",
    "print(i)"
   ]
  },
  {
   "cell_type": "code",
   "execution_count": 13,
   "id": "586ab35d",
   "metadata": {},
   "outputs": [
    {
     "name": "stdout",
     "output_type": "stream",
     "text": [
      "{2}\n"
     ]
    }
   ],
   "source": [
    "i=evens.intersection(primes)\n",
    "print(i)"
   ]
  },
  {
   "cell_type": "markdown",
   "id": "80a40fdd",
   "metadata": {},
   "source": [
    "Diffrence of seys:"
   ]
  },
  {
   "cell_type": "code",
   "execution_count": 14,
   "id": "fdd9a701",
   "metadata": {},
   "outputs": [
    {
     "data": {
      "text/plain": [
       "{4, 5, 6, 7, 8, 9}"
      ]
     },
     "execution_count": 14,
     "metadata": {},
     "output_type": "execute_result"
    }
   ],
   "source": [
    "setA = {1, 2, 3, 4, 5, 6, 7, 8, 9}\n",
    "setB = {1, 2, 3, 10, 11, 12}\n",
    "\n",
    "# difference() : returns a set with all the elements from the setA that are not in setB.\n",
    "diff_set = setA.difference(setB)\n",
    "diff_set"
   ]
  },
  {
   "cell_type": "code",
   "execution_count": 15,
   "id": "81a4d72f",
   "metadata": {},
   "outputs": [
    {
     "data": {
      "text/plain": [
       "{10, 11, 12}"
      ]
     },
     "execution_count": 15,
     "metadata": {},
     "output_type": "execute_result"
    }
   ],
   "source": [
    "diff_set=setB.difference(setA)\n",
    "diff_set"
   ]
  },
  {
   "cell_type": "code",
   "execution_count": 16,
   "id": "52b15bad",
   "metadata": {},
   "outputs": [
    {
     "name": "stdout",
     "output_type": "stream",
     "text": [
      "{4, 5, 6, 7, 8, 9, 10, 11, 12}\n"
     ]
    }
   ],
   "source": [
    "# symmetric_difference() : returns a set with all the elements that are in setA and setB but not in both\n",
    "diff_set=setA.symmetric_difference(setB)\n",
    "print(diff_set)"
   ]
  },
  {
   "cell_type": "code",
   "execution_count": 17,
   "id": "082a1f1d",
   "metadata": {},
   "outputs": [
    {
     "name": "stdout",
     "output_type": "stream",
     "text": [
      "{4, 5, 6, 7, 8, 9, 10, 11, 12}\n"
     ]
    }
   ],
   "source": [
    "diff_set=setB.symmetric_difference(setA)\n",
    "print(diff_set)"
   ]
  },
  {
   "cell_type": "code",
   "execution_count": 18,
   "id": "6563d05d",
   "metadata": {},
   "outputs": [
    {
     "name": "stdout",
     "output_type": "stream",
     "text": [
      "{1, 2, 3, 4, 5, 6, 7, 8, 9, 10, 11, 12}\n"
     ]
    }
   ],
   "source": [
    "setA = {1, 2, 3, 4, 5, 6, 7, 8, 9}\n",
    "setB = {1, 2, 3, 10, 11, 12}\n",
    "\n",
    "# update() : Update the set by adding elements from another set.\n",
    "setA.update(setB)\n",
    "print(setA)"
   ]
  },
  {
   "cell_type": "code",
   "execution_count": 20,
   "id": "826c5143",
   "metadata": {},
   "outputs": [
    {
     "name": "stdout",
     "output_type": "stream",
     "text": [
      "{1, 2, 3}\n"
     ]
    }
   ],
   "source": [
    "# intersection_update() : Update the set by keeping only the elements found in both\n",
    "setA = {1, 2, 3, 4, 5, 6, 7, 8, 9}\n",
    "setA.intersection_update(setB)\n",
    "print(setA)"
   ]
  },
  {
   "cell_type": "code",
   "execution_count": 22,
   "id": "92bba714",
   "metadata": {},
   "outputs": [
    {
     "name": "stdout",
     "output_type": "stream",
     "text": [
      "{4, 5, 6, 7, 8, 9, 10, 11, 12}\n"
     ]
    }
   ],
   "source": [
    "# symmetric_difference_update() : Update the set by only keeping the elements found in either set, but not in both\n",
    "setA = {1, 2, 3, 4, 5, 6, 7, 8, 9}\n",
    "setA.symmetric_difference_update(setB)\n",
    "print(setA)"
   ]
  },
  {
   "cell_type": "markdown",
   "id": "5272a22c",
   "metadata": {},
   "source": [
    "#### Copying"
   ]
  },
  {
   "cell_type": "code",
   "execution_count": 23,
   "id": "93533bce",
   "metadata": {},
   "outputs": [],
   "source": [
    "set_org = {1, 2, 3, 4, 5}\n",
    "set_copy=set_org"
   ]
  },
  {
   "cell_type": "code",
   "execution_count": 25,
   "id": "74fe724f",
   "metadata": {},
   "outputs": [
    {
     "name": "stdout",
     "output_type": "stream",
     "text": [
      "{1, 2, 3, 4, 5, 6, 7}\n",
      "{1, 2, 3, 4, 5, 6, 7}\n"
     ]
    }
   ],
   "source": [
    "set_copy.update([3,4,5,6,7])\n",
    "print(set_copy)\n",
    "print(set_org)"
   ]
  },
  {
   "cell_type": "code",
   "execution_count": 26,
   "id": "9caf395e",
   "metadata": {},
   "outputs": [
    {
     "name": "stdout",
     "output_type": "stream",
     "text": [
      "{1, 2, 3, 4, 5}\n",
      "{1, 2, 3, 4, 5, 6, 7}\n"
     ]
    }
   ],
   "source": [
    "#Now using copy we will copy the set\n",
    "set_org={1,2,3,4,5}\n",
    "set_copy=set_org.copy()\n",
    "\n",
    "set_copy.update([3,4,5,6,7])\n",
    "print(set_org)\n",
    "print(set_copy)"
   ]
  },
  {
   "cell_type": "markdown",
   "id": "8431a0c0",
   "metadata": {},
   "source": [
    "### subset,superset and disjoint"
   ]
  },
  {
   "cell_type": "code",
   "execution_count": 28,
   "id": "336941dd",
   "metadata": {},
   "outputs": [
    {
     "name": "stdout",
     "output_type": "stream",
     "text": [
      "False\n",
      "True\n"
     ]
    }
   ],
   "source": [
    "setA = {1, 2, 3, 4, 5, 6}\n",
    "setB = {1, 2, 3}\n",
    "# issubset(setX): Returns True if setX contains the set\n",
    "print(setA.issubset(setB))\n",
    "print(setB.issubset(setA))"
   ]
  },
  {
   "cell_type": "code",
   "execution_count": 29,
   "id": "93f4ce91",
   "metadata": {},
   "outputs": [
    {
     "name": "stdout",
     "output_type": "stream",
     "text": [
      "True\n",
      "False\n"
     ]
    }
   ],
   "source": [
    "#superset\n",
    "print(setA.issuperset(setB))\n",
    "print(setB.issuperset(setA))"
   ]
  },
  {
   "cell_type": "code",
   "execution_count": 31,
   "id": "895b0f0a",
   "metadata": {},
   "outputs": [
    {
     "name": "stdout",
     "output_type": "stream",
     "text": [
      "False\n",
      "True\n"
     ]
    }
   ],
   "source": [
    "# isdisjoint(setX) : Return True if both sets have a null intersection, i.e. no same elements\n",
    "setC = {7,8,9}\n",
    "print(setA.isdisjoint(setB))\n",
    "print(setA.isdisjoint(setC))"
   ]
  },
  {
   "cell_type": "markdown",
   "id": "b78eb5d0",
   "metadata": {},
   "source": [
    "### Frozenset\n",
    "Frozen set is just an immutable version of normal set. While elements of a set can be modified at any time, elements of frozen set remains the same after creation. Creation with: my_frozenset = frozenset(iterable)\n",
    "    \n",
    "    \n",
    "    "
   ]
  },
  {
   "cell_type": "code",
   "execution_count": 32,
   "id": "5a45f4f5",
   "metadata": {},
   "outputs": [
    {
     "name": "stdout",
     "output_type": "stream",
     "text": [
      "frozenset({0, 1, 2, 3, 4, 5, 6, 7, 8, 9})\n",
      "frozenset()\n",
      "frozenset({1, 3, 5, 7, 9})\n"
     ]
    }
   ],
   "source": [
    "a = frozenset([0, 1, 2, 3, 4])\n",
    "\n",
    "# The following is not allowed:\n",
    "# a.add(5)\n",
    "# a.remove(1)\n",
    "# a.discard(1)\n",
    "# a.clear()\n",
    "odds = frozenset({1, 3, 5, 7, 9})\n",
    "evens = frozenset({0, 2, 4, 6, 8})\n",
    "print(odds.union(evens))\n",
    "print(odds.intersection(evens))\n",
    "print(odds.difference(evens))"
   ]
  },
  {
   "cell_type": "code",
   "execution_count": null,
   "id": "2cff9d08",
   "metadata": {},
   "outputs": [],
   "source": []
  }
 ],
 "metadata": {
  "kernelspec": {
   "display_name": "Python 3",
   "language": "python",
   "name": "python3"
  },
  "language_info": {
   "codemirror_mode": {
    "name": "ipython",
    "version": 3
   },
   "file_extension": ".py",
   "mimetype": "text/x-python",
   "name": "python",
   "nbconvert_exporter": "python",
   "pygments_lexer": "ipython3",
   "version": "3.8.8"
  }
 },
 "nbformat": 4,
 "nbformat_minor": 5
}
