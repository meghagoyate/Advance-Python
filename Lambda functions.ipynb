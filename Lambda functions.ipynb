{
 "cells": [
  {
   "cell_type": "markdown",
   "id": "e5f508c7",
   "metadata": {},
   "source": [
    "# Lambda Function"
   ]
  },
  {
   "cell_type": "code",
   "execution_count": 6,
   "id": "e6680274",
   "metadata": {},
   "outputs": [
    {
     "name": "stdout",
     "output_type": "stream",
     "text": [
      "15 115\n"
     ]
    }
   ],
   "source": [
    " f = lambda x : x+5\n",
    "val1 =  f(10)\n",
    "val2 = f(110)\n",
    "print(val1,val2)"
   ]
  },
  {
   "cell_type": "code",
   "execution_count": 8,
   "id": "6396d01c",
   "metadata": {},
   "outputs": [
    {
     "name": "stdout",
     "output_type": "stream",
     "text": [
      "45 28\n"
     ]
    }
   ],
   "source": [
    "f = lambda x,y:x*y\n",
    "val3=f(5,9)\n",
    "val4=f(4,7)\n",
    "print(val3,val4)"
   ]
  },
  {
   "cell_type": "markdown",
   "id": "52e4be0e",
   "metadata": {},
   "source": [
    "## Lamdba inside another function"
   ]
  },
  {
   "cell_type": "code",
   "execution_count": 9,
   "id": "e91e49f0",
   "metadata": {},
   "outputs": [
    {
     "name": "stdout",
     "output_type": "stream",
     "text": [
      "18\n",
      "69\n"
     ]
    }
   ],
   "source": [
    "def myfunc(n):\n",
    "    return lambda x:x*n\n",
    "doubler = myfunc(2)\n",
    "print(doubler(9))\n",
    "\n",
    "tripler = myfunc(3)\n",
    "print(tripler(23))"
   ]
  },
  {
   "cell_type": "markdown",
   "id": "058ed120",
   "metadata": {},
   "source": [
    "## Map"
   ]
  },
  {
   "cell_type": "code",
   "execution_count": 14,
   "id": "c8114066",
   "metadata": {},
   "outputs": [
    {
     "name": "stdout",
     "output_type": "stream",
     "text": [
      "[2, 4, 6, 8, 10, 12]\n"
     ]
    }
   ],
   "source": [
    "a  = [1, 2, 3, 4, 5, 6]\n",
    "b = list(map(lambda x: x*2,a))\n",
    "print(b)"
   ]
  },
  {
   "cell_type": "code",
   "execution_count": 16,
   "id": "ec2ae2b9",
   "metadata": {},
   "outputs": [
    {
     "name": "stdout",
     "output_type": "stream",
     "text": [
      "[2, 4, 6, 8, 10, 12]\n"
     ]
    }
   ],
   "source": [
    "c = [x*2 for x in a]\n",
    "print(c)"
   ]
  },
  {
   "cell_type": "markdown",
   "id": "505d40ef",
   "metadata": {},
   "source": [
    "## Filter function"
   ]
  },
  {
   "cell_type": "code",
   "execution_count": 21,
   "id": "28c62646",
   "metadata": {},
   "outputs": [
    {
     "name": "stdout",
     "output_type": "stream",
     "text": [
      "[2, 4, 6, 8]\n"
     ]
    }
   ],
   "source": [
    "a = [1, 2, 3, 4, 5, 6, 7, 8]\n",
    "b = list(filter(lambda x : (x%2==0),a))\n",
    "print(b)"
   ]
  },
  {
   "cell_type": "code",
   "execution_count": 26,
   "id": "94be48c1",
   "metadata": {},
   "outputs": [
    {
     "name": "stdout",
     "output_type": "stream",
     "text": [
      "[2, 4, 6, 8]\n"
     ]
    }
   ],
   "source": [
    "a = [1, 2, 3, 4, 5, 6, 7, 8]\n",
    "b=[x for x in a if x%2==0]\n",
    "print(b)"
   ]
  },
  {
   "cell_type": "markdown",
   "id": "3a020f1e",
   "metadata": {},
   "source": [
    "## Reduce function"
   ]
  },
  {
   "cell_type": "code",
   "execution_count": 27,
   "id": "b38208b8",
   "metadata": {},
   "outputs": [],
   "source": [
    "from functools import reduce"
   ]
  },
  {
   "cell_type": "code",
   "execution_count": 29,
   "id": "eba8d697",
   "metadata": {},
   "outputs": [
    {
     "name": "stdout",
     "output_type": "stream",
     "text": [
      "24\n"
     ]
    }
   ],
   "source": [
    "a = [1, 2, 3, 4]\n",
    "product_a = reduce(lambda x,y:x*y,a)\n",
    "print(product_a)"
   ]
  },
  {
   "cell_type": "code",
   "execution_count": 30,
   "id": "9b604816",
   "metadata": {},
   "outputs": [
    {
     "name": "stdout",
     "output_type": "stream",
     "text": [
      "10\n"
     ]
    }
   ],
   "source": [
    "adds = reduce(lambda x,y:x+y,a)\n",
    "print(adds)"
   ]
  },
  {
   "cell_type": "code",
   "execution_count": null,
   "id": "612ef108",
   "metadata": {},
   "outputs": [],
   "source": []
  }
 ],
 "metadata": {
  "kernelspec": {
   "display_name": "Python 3",
   "language": "python",
   "name": "python3"
  },
  "language_info": {
   "codemirror_mode": {
    "name": "ipython",
    "version": 3
   },
   "file_extension": ".py",
   "mimetype": "text/x-python",
   "name": "python",
   "nbconvert_exporter": "python",
   "pygments_lexer": "ipython3",
   "version": "3.8.8"
  }
 },
 "nbformat": 4,
 "nbformat_minor": 5
}
