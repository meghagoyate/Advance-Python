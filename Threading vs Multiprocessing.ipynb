{
 "cells": [
  {
   "cell_type": "markdown",
   "metadata": {},
   "source": [
    "# Threading vs Multiprocessing\n"
   ]
  },
  {
   "cell_type": "markdown",
   "metadata": {},
   "source": [
    "## Threading in Python\n",
    "Use the `threading` module."
   ]
  },
  {
   "cell_type": "code",
   "execution_count": 3,
   "metadata": {},
   "outputs": [],
   "source": [
    "from threading import Thread\n",
    "\n",
    "def square_numbers():\n",
    "    for i in range(1000):\n",
    "        result = i * i\n",
    "\n",
    "        \n",
    "if __name__ == \"__main__\":        \n",
    "    threads = []\n",
    "    num_threads = 10\n",
    "\n",
    "    # create threads and asign a function for each thread\n",
    "    for i in range(num_threads):\n",
    "        thread = Thread(target=square_numbers)\n",
    "        threads.append(thread)\n",
    "\n",
    "    # start all threads\n",
    "    for thread in threads:\n",
    "        thread.start()\n",
    "\n",
    "    # wait for all threads to finish\n",
    "    # block the main thread until these threads are finished\n",
    "    for thread in threads:\n",
    "        thread.join()"
   ]
  },
  {
   "cell_type": "markdown",
   "metadata": {},
   "source": [
    "## Multiprocessing\n",
    "Use the `multiprocessing` module. The syntax is very similar to above."
   ]
  },
  {
   "cell_type": "code",
   "execution_count": 4,
   "metadata": {},
   "outputs": [],
   "source": [
    "from multiprocessing import Process\n",
    "import os\n",
    "\n",
    "\n",
    "def square_numbers():\n",
    "    for i in range(1000):\n",
    "        result = i * i\n",
    "\n",
    "\n",
    "if __name__ == \"__main__\":\n",
    "    processes = []\n",
    "    num_processes = os.cpu_count()\n",
    "\n",
    "    # create processes and asign a function for each process\n",
    "    for i in range(num_processes):\n",
    "        process = Process(target=square_numbers)\n",
    "        processes.append(process)\n",
    "\n",
    "    # start all processes\n",
    "    for process in processes:\n",
    "        process.start()\n",
    "\n",
    "    # wait for all processes to finish\n",
    "    # block the main thread until these processes are finished\n",
    "    for process in processes:\n",
    "        process.join()"
   ]
  },
  {
   "cell_type": "code",
   "execution_count": null,
   "metadata": {},
   "outputs": [],
   "source": []
  }
 ],
 "metadata": {
  "kernelspec": {
   "display_name": "Python 3",
   "language": "python",
   "name": "python3"
  },
  "language_info": {
   "codemirror_mode": {
    "name": "ipython",
    "version": 3
   },
   "file_extension": ".py",
   "mimetype": "text/x-python",
   "name": "python",
   "nbconvert_exporter": "python",
   "pygments_lexer": "ipython3",
   "version": "3.8.8"
  }
 },
 "nbformat": 4,
 "nbformat_minor": 2
}
